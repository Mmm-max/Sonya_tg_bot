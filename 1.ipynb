{
 "cells": [
  {
   "cell_type": "code",
   "execution_count": 17,
   "id": "76eedfb4",
   "metadata": {},
   "outputs": [],
   "source": [
    "import re\n",
    "\n",
    "\n",
    "topic_pattern = r\"[VI]+\\. (.*)\"\n",
    "question_pattern = r\"(\\d)+\\. В: (.*)\"\n",
    "answer_pattern = r\"([A-Z])\\. О: (.*)\""
   ]
  },
  {
   "cell_type": "code",
   "execution_count": 25,
   "id": "43a5930c",
   "metadata": {},
   "outputs": [
    {
     "name": "stdout",
     "output_type": "stream",
     "text": [
      "['', 'I. Острая боль и дискомфорт', '', '1. В: Сильно болит зуб, что делать? \\xa0', '', '\\xa0\\xa0 О: Примите обезболивающее (ибупрофен/парацетамол), избегайте жевания на больной стороне. Срочно запишитесь к стоматологу! \\xa0', '', '\\xa0\\xa0 Ссылка: [ААСР - Острая зубная боль](https://www.e-stomatology.ru/patient/pain/)', '']\n",
      "Topic found: Острая боль и дискомфорт\n",
      "Question found: Сильно болит зуб, что делать?\n",
      "Question number: 1\n"
     ]
    }
   ],
   "source": [
    "s = \"\"\"\n",
    "I. Острая боль и дискомфорт\n",
    "\n",
    "1. В: Сильно болит зуб, что делать?  \n",
    "\n",
    "   О: Примите обезболивающее (ибупрофен/парацетамол), избегайте жевания на больной стороне. Срочно запишитесь к стоматологу!  \n",
    "\n",
    "   Ссылка: [ААСР - Острая зубная боль](https://www.e-stomatology.ru/patient/pain/)\n",
    "\n",
    "\"\"\"\n",
    "s = s.splitlines()\n",
    "print(s)\n",
    "for i in s:\n",
    "    i = i.strip()\n",
    "    x = re.findall(topic_pattern, i, re.MULTILINE)\n",
    "    y = re.findall(question_pattern, i, re.MULTILINE)\n",
    "    if x:\n",
    "        print(f\"Topic found: {x[0]}\")\n",
    "    if y:\n",
    "        print(f\"Question found: {y[0][1]}\")\n",
    "        print(f\"Question number: {y[0][0]}\")"
   ]
  }
 ],
 "metadata": {
  "kernelspec": {
   "display_name": ".venv",
   "language": "python",
   "name": "python3"
  },
  "language_info": {
   "codemirror_mode": {
    "name": "ipython",
    "version": 3
   },
   "file_extension": ".py",
   "mimetype": "text/x-python",
   "name": "python",
   "nbconvert_exporter": "python",
   "pygments_lexer": "ipython3",
   "version": "3.13.3"
  }
 },
 "nbformat": 4,
 "nbformat_minor": 5
}
